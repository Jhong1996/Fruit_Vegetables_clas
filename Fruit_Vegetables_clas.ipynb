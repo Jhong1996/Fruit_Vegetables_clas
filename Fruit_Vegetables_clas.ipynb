{
 "cells": [
  {
   "cell_type": "markdown",
   "metadata": {
    "collapsed": false
   },
   "source": [
    "# AI达人创造营作业：水果蔬菜分类"
   ]
  },
  {
   "cell_type": "markdown",
   "metadata": {
    "collapsed": false
   },
   "source": [
    "### 解压数据集"
   ]
  },
  {
   "cell_type": "code",
   "execution_count": 1,
   "metadata": {
    "collapsed": false
   },
   "outputs": [],
   "source": [
    "!unzip -q -d data/ data/data104366/Fruit-Vegetables-Dataset.zip"
   ]
  },
  {
   "cell_type": "code",
   "execution_count": 29,
   "metadata": {
    "collapsed": false
   },
   "outputs": [
    {
     "data": {
      "image/png": "[encoded data removed]",
      "text/plain": [
       "<Figure size 432x288 with 1 Axes>"
      ]
     },
     "metadata": {},
     "output_type": "display_data"
    }
   ],
   "source": [
    "import matplotlib.pyplot as plt\r\n",
    "import PIL.Image as Image\r\n",
    "\r\n",
    "path = 'data/Fruit-Vegetables-Dataset/Banana/245_100.jpg'\r\n",
    "img = Image.open(path)\r\n",
    "plt.imshow(img)      # 根据数组绘制图像\r\n",
    "plt.show()           # 显示图像"
   ]
  },
  {
   "cell_type": "markdown",
   "metadata": {
    "collapsed": false
   },
   "source": [
    "### 数据处理"
   ]
  },
  {
   "cell_type": "code",
   "execution_count": 22,
   "metadata": {
    "collapsed": false
   },
   "outputs": [],
   "source": [
    "import os\r\n",
    "import re\r\n",
    "images_path = 'data/Fruit-Vegetables-Dataset'   # 存放目录\r\n",
    "txt_save_path = 'label_name.txt'  # 生成txt文件\r\n",
    "fw = open(txt_save_path, \"w\")\r\n",
    "# 读取函数，用来读取文件夹中的所有函数，输入参数是文件名\r\n",
    "\r\n",
    "def read_directory(directory_name):\r\n",
    "\ti = 0\r\n",
    "\tfor filename in os.listdir(directory_name):\r\n",
    "\t\t# print(filename)  # 仅仅是为了测试\r\n",
    "\t\tfw.write(filename + '\\t' + str(i) +'\\n')  # 打印成功信息\r\n",
    "\t\ti = i + 1\r\n",
    "\r\n",
    "read_directory(images_path)    #传入所要读取文件夹路径"
   ]
  },
  {
   "cell_type": "code",
   "execution_count": 20,
   "metadata": {
    "collapsed": false
   },
   "outputs": [
    {
     "name": "stdout",
     "output_type": "stream",
     "text": [
      "[['data/Fruit-Vegetables-Dataset/Melon Piel de Sapo/r2_84_100.jpg', '34'], ['data/Fruit-Vegetables-Dataset/Orange/164_100.jpg', '23'], ['data/Fruit-Vegetables-Dataset/Banana Red/r_184_100.jpg', '33'], ['data/Fruit-Vegetables-Dataset/Nectarine Flat/r_199_100.jpg', '1'], ['data/Fruit-Vegetables-Dataset/Hazelnut/r_194_100.jpg', '97'], ['data/Fruit-Vegetables-Dataset/Apple Red Delicious/112_100.jpg', '89'], ['data/Fruit-Vegetables-Dataset/Eggplant/31_100.jpg', '45'], ['data/Fruit-Vegetables-Dataset/Passion Fruit/r_39_100.jpg', '93'], ['data/Fruit-Vegetables-Dataset/Hazelnut/41_100.jpg', '97'], ['data/Fruit-Vegetables-Dataset/Grape White 2/78_100.jpg', '62']]\n",
      "样本数量是：1229760\n"
     ]
    }
   ],
   "source": [
    "# 建立样本数据读取路径与样本标签之间的关系\r\n",
    "import os\r\n",
    "import random\r\n",
    "\r\n",
    "data_list = []     # 用列表保存每个样本的读取路径和标签\r\n",
    "\r\n",
    "# 构造标签字典\r\n",
    "label_list = []    \r\n",
    "with open('label_name.txt') as f:\r\n",
    "    for line in f:\r\n",
    "        a, b = line.strip('\\n').split('\\t')\r\n",
    "        label_list.append([a, b])\r\n",
    "label_dic = dict(label_list)\r\n",
    "\r\n",
    "label_list_2 = []  \r\n",
    "with open('label_name.txt') as f:\r\n",
    "    for line in f:\r\n",
    "        a, b = line.strip('\\n').split('\\t')\r\n",
    "        label_list.append([b, a])\r\n",
    "\r\n",
    "# 获取img_trainA目录下所有子目录名称，保存到列表中\r\n",
    "class_list = []\r\n",
    "for i in os.listdir('data/Fruit-Vegetables-Dataset'):\r\n",
    "    class_dir = os.path.join('data/Fruit-Vegetables-Dataset', i)\r\n",
    "    if os.path.isdir(class_dir):\r\n",
    "        class_list.append(i)\r\n",
    "# print(class_list)\r\n",
    "# 方法二\r\n",
    "# class_list = os.listdir('img_trainA')\r\n",
    "# class_list.remove('label_name.txt')\r\n",
    "# print(class_list)\r\n",
    "for i in range(0,20):\r\n",
    "    for each in class_list:\r\n",
    "        for f in os.listdir('data/Fruit-Vegetables-Dataset/'+each):\r\n",
    "            data_list.append(['data/Fruit-Vegetables-Dataset/'+ each +'/'+ f,label_dic[each]])\r\n",
    "\r\n",
    "# 打乱文件顺序\r\n",
    "random.shuffle(data_list)\r\n",
    "\r\n",
    "# 打印前十个，[样本读取路径，样本标签]\r\n",
    "print(data_list[0:10])\r\n",
    "\r\n",
    "# 打印样本数量\r\n",
    "print('样本数量是：{}'.format(len(data_list)))\r\n",
    "\r\n"
   ]
  },
  {
   "cell_type": "code",
   "execution_count": 3,
   "metadata": {
    "collapsed": false
   },
   "outputs": [
    {
     "name": "stdout",
     "output_type": "stream",
     "text": [
      "(3, 100, 100)\n",
      "[79]\n"
     ]
    }
   ],
   "source": [
    "# 构造读取器与数据预处理\r\n",
    "# 导入相关模块\r\n",
    "import paddle\r\n",
    "from paddle.vision.transforms import Compose, ColorJitter, Resize, Transpose, Normalize\r\n",
    "from paddle.vision import transforms\r\n",
    "import cv2\r\n",
    "import numpy as np \r\n",
    "from PIL import Image\r\n",
    "from paddle.io import Dataset\r\n",
    "\r\n",
    "# 数据预处理\r\n",
    "def preprocess(img):\r\n",
    "    transform = Compose([\r\n",
    "        # Resize(size=(100, 100)),\r\n",
    "        # transforms.RandomHorizontalFlip(),            # 水平翻转\r\n",
    "        # transforms.ColorJitter(0.05, 0.05, 0.05, 0.05),\r\n",
    "        # transforms.RandomRotation(8),     # 随机旋转\r\n",
    "        # transforms.RandomResizedCrop(size=(300,400), scale=(0.8, 1.0),),  # 随机剪裁\r\n",
    "        # mean=[127.5, 127.5, 127.5], std=[127.5, 127.5, 127.5], data_format='HWC'\r\n",
    "        Normalize(mean=[127.5, 127.5, 127.5], std=[127.5, 127.5, 127.5], data_format='HWC'),\r\n",
    "        Transpose()\r\n",
    "        ])\r\n",
    "    img = transform(img).astype('float32')\r\n",
    "    return img\r\n",
    "\r\n",
    "# 自定义收据读取器\r\n",
    "class Reader(Dataset):\r\n",
    "    def __init__(self, data, is_val=False):\r\n",
    "        super().__init__()\r\n",
    "        self.samples = data[-int(len(data)*0.2):] if is_val else data[:-int(len(data)*0.2)]\r\n",
    "\r\n",
    "    def __getitem__(self, idx):\r\n",
    "        # 处理图像\r\n",
    "        img_path = self.samples[idx][0]  # 得到某样本路径\r\n",
    "        img = Image.open(img_path)\r\n",
    "        if img.mode != 'RGB':\r\n",
    "            img = img.convert('RGB')\r\n",
    "        img = preprocess(img)    # 数据预处理\r\n",
    "\r\n",
    "        # 处理标签\r\n",
    "        label = self.samples[idx][1]    # 得到某样本的标签\r\n",
    "        label = np.array([label], dtype='int64')\r\n",
    "        return img, label\r\n",
    "\r\n",
    "    def __len__(self):\r\n",
    "        # 返回每个epoch中的图片数量\r\n",
    "        return len(self.samples)\r\n",
    "\r\n",
    "# 生成训练数据集实例\r\n",
    "train_dataset = Reader(data_list, is_val=False)\r\n",
    "\r\n",
    "# 生成测试数据集实例\r\n",
    "eval_dataset = Reader(data_list, is_val=True)\r\n",
    "\r\n",
    "# 打印一个训练样本\r\n",
    "print(train_dataset[88][0].shape)\r\n",
    "print(train_dataset[88][1])\r\n"
   ]
  },
  {
   "cell_type": "markdown",
   "metadata": {
    "collapsed": false
   },
   "source": [
    "### 模型配置"
   ]
  },
  {
   "cell_type": "code",
   "execution_count": 4,
   "metadata": {
    "collapsed": false
   },
   "outputs": [],
   "source": [
    "# 定义模型\r\n",
    "class MyNet(paddle.nn.Layer):\r\n",
    "    def __init__(self):\r\n",
    "        super(MyNet, self).__init__()\r\n",
    "        self.layer = paddle.vision.models.vgg16(pretrained=True)\r\n",
    "        self.fc1 = paddle.nn.Linear(1000, 500)\r\n",
    "        self.fc2 = paddle.nn.Linear(500, 120)\r\n",
    "    # 网络的前向计算过程\r\n",
    "    def forward(self, x):\r\n",
    "        x = self.layer(x)\r\n",
    "        x = self.fc1(x)\r\n",
    "        x = self.fc2(x)\r\n",
    "        return x"
   ]
  },
  {
   "cell_type": "code",
   "execution_count": 5,
   "metadata": {
    "collapsed": false
   },
   "outputs": [
    {
     "name": "stderr",
     "output_type": "stream",
     "text": [
      "100%|██████████| 817517/817517 [00:11<00:00, 72781.77it/s]\n"
     ]
    }
   ],
   "source": [
    "# 模型配置\r\n",
    "# 定义输入\r\n",
    "input_define = paddle.static.InputSpec(shape=[-1,3,100,100], dtype='float32', name='img')\r\n",
    "label_define = paddle.static.InputSpec(shape=[-1,1], dtype='int64', name='label')\r\n",
    "\r\n",
    "# 实例化网络对象并定义优化器等\r\n",
    "model = MyNet()\r\n",
    "model = paddle.Model(model, inputs=input_define, labels=label_define)   # 封装模型\r\n",
    "optimizer = paddle.optimizer.Adam(learning_rate=0.0003, parameters=model.parameters())\r\n",
    "\r\n",
    "model.prepare(optimizer=optimizer,\r\n",
    "              loss=paddle.nn.CrossEntropyLoss(),\r\n",
    "              metrics=paddle.metric.Accuracy())\r\n"
   ]
  },
  {
   "cell_type": "markdown",
   "metadata": {
    "collapsed": false
   },
   "source": [
    "### 模型训练"
   ]
  },
  {
   "cell_type": "code",
   "execution_count": 6,
   "metadata": {
    "collapsed": false
   },
   "outputs": [
    {
     "name": "stdout",
     "output_type": "stream",
     "text": [
      "The loss value printed in the log is the current step, and the metric is the average value of previous steps.\n",
      "Epoch 1/10\n"
     ]
    },
    {
     "name": "stderr",
     "output_type": "stream",
     "text": [
      "/opt/conda/envs/python35-paddle120-env/lib/python3.7/site-packages/paddle/fluid/layers/utils.py:77: DeprecationWarning: Using or importing the ABCs from 'collections' instead of from 'collections.abc' is deprecated, and in 3.8 it will stop working\n",
      "  return (isinstance(seq, collections.Sequence) and\n"
     ]
    },
    {
     "name": "stdout",
     "output_type": "stream",
     "text": [
      "step 122976/122976 [==============================] - loss: 0.0711 - acc: 0.9187 - 25ms/step         \n",
      "save checkpoint at /home/aistudio/output/0\n",
      "Eval begin...\n",
      "step 30744/30744 [==============================] - loss: 1.6778e-04 - acc: 0.9868 - 9ms/step     \n",
      "Eval samples: 245952\n",
      "Epoch 2/10\n",
      "step 122976/122976 [==============================] - loss: 5.9605e-07 - acc: 0.9466 - 25ms/step        \n",
      "Eval begin...\n",
      "step 30744/30744 [==============================] - loss: 0.0063 - acc: 0.9765 - 9ms/step            \n",
      "Eval samples: 245952\n",
      "Epoch 3/10\n",
      "step 122976/122976 [==============================] - loss: 0.0993 - acc: 0.9457 - 25ms/step         \n",
      "Eval begin...\n",
      "step 30744/30744 [==============================] - loss: 0.7395 - acc: 0.9830 - 9ms/step          \n",
      "Eval samples: 245952\n",
      "Epoch 4/10\n",
      "step 122976/122976 [==============================] - loss: 0.0190 - acc: 0.9370 - 25ms/step            \n",
      "Eval begin...\n",
      "step 30744/30744 [==============================] - loss: 0.0220 - acc: 0.9807 - 9ms/step             \n",
      "Eval samples: 245952\n",
      "Epoch 5/10\n",
      "step 122976/122976 [==============================] - loss: 5.1855e-06 - acc: 0.9379 - 25ms/step        \n",
      "Eval begin...\n",
      "step 30744/30744 [==============================] - loss: 1.0431e-07 - acc: 0.9764 - 9ms/step      \n",
      "Eval samples: 245952\n",
      "Epoch 6/10\n",
      "step 122976/122976 [==============================] - loss: 0.1074 - acc: 0.9300 - 25ms/step        \n",
      "save checkpoint at /home/aistudio/output/5\n",
      "Eval begin...\n",
      "step 30744/30744 [==============================] - loss: 7.7510e-04 - acc: 0.9797 - 9ms/step        \n",
      "Eval samples: 245952\n",
      "Epoch 7/10\n",
      "step 122976/122976 [==============================] - loss: 1.0913 - acc: 0.9212 - 25ms/step         \n",
      "Eval begin...\n",
      "step 30744/30744 [==============================] - loss: 8.3198e-05 - acc: 0.9597 - 9ms/step     \n",
      "Eval samples: 245952\n",
      "Epoch 8/10\n",
      "step 122976/122976 [==============================] - loss: 0.4101 - acc: 0.8941 - 25ms/step        \n",
      "Eval begin...\n",
      "step 30744/30744 [==============================] - loss: 0.0000e+00 - acc: 0.9643 - 9ms/step     \n",
      "Eval samples: 245952\n",
      "Epoch 9/10\n",
      "step 122976/122976 [==============================] - loss: 0.1630 - acc: 0.8693 - 25ms/step        \n",
      "Eval begin...\n",
      "step 30744/30744 [==============================] - loss: 0.0045 - acc: 0.9615 - 9ms/step         \n",
      "Eval samples: 245952\n",
      "Epoch 10/10\n",
      "step 122976/122976 [==============================] - loss: 0.3517 - acc: 0.9022 - 25ms/step         \n",
      "Eval begin...\n",
      "step 30744/30744 [==============================] - loss: 0.2607 - acc: 0.9646 - 9ms/step          \n",
      "Eval samples: 245952\n",
      "save checkpoint at /home/aistudio/output/final\n"
     ]
    }
   ],
   "source": [
    "model.fit(train_data=train_dataset,\r\n",
    "          eval_data=eval_dataset,\r\n",
    "          batch_size=8,\r\n",
    "          epochs=10,\r\n",
    "          save_dir='output',\r\n",
    "          save_freq=5,\r\n",
    "          log_freq=10,\r\n",
    "          verbose=1\r\n",
    "          )"
   ]
  },
  {
   "cell_type": "markdown",
   "metadata": {
    "collapsed": false
   },
   "source": [
    "### 模型预测"
   ]
  },
  {
   "cell_type": "code",
   "execution_count": 7,
   "metadata": {
    "collapsed": false
   },
   "outputs": [
    {
     "name": "stdout",
     "output_type": "stream",
     "text": [
      "Eval begin...\n",
      "step 1922/1922 [==============================] - loss: 0.0962 - acc: 0.9646 - 86ms/step         \n",
      "Eval samples: 245952\n",
      "{'loss': [0.096198305], 'acc': 0.9645581251626334}\n"
     ]
    }
   ],
   "source": [
    "# 加载模型\r\n",
    "model.load('output/final')\r\n",
    "\r\n",
    "result = model.evaluate(eval_dataset,\r\n",
    "                        batch_size=128,\r\n",
    "                        verbose=1)\r\n",
    "\r\n",
    "print(result)\r\n"
   ]
  },
  {
   "cell_type": "code",
   "execution_count": 8,
   "metadata": {
    "collapsed": false
   },
   "outputs": [
    {
     "name": "stdout",
     "output_type": "stream",
     "text": [
      "Predict begin...\n",
      "step 245952/245952 [==============================] - 7ms/step        \n",
      "Predict samples: 245952\n",
      "245952 (1, 120)\n"
     ]
    }
   ],
   "source": [
    "result = model.predict(eval_dataset)\r\n",
    "print(len(result[0]), result[0][0].shape)\r\n",
    "\r\n",
    "\r\n",
    "# path = '  '\r\n",
    "# img = Image.open(path)\r\n",
    "# plt.imshow(img)      # 根据数组绘制图像\r\n",
    "# plt.show()           # 显示图像"
   ]
  },
  {
   "cell_type": "code",
   "execution_count": null,
   "metadata": {
    "collapsed": false
   },
   "outputs": [],
   "source": [
    "# for i in range(len(result[0])):\r\n",
    "import matplotlib.pyplot as plt\r\n",
    "for i in range(0,4):\r\n",
    "    img1 = eval_dataset[i][0]\r\n",
    "    img1 = img1.transpose(1, 2, 0)\r\n",
    "    plt.imshow(img1)      # 根据数组绘制图像\r\n",
    "    plt.show()           # 显示图像\r\n",
    "    # print(img1.shape, eval_dataset[i][1], result[0][i])\r\n",
    "    print(img1.shape, label_list_2[0][int(eval_dataset[i][1])])"
   ]
  }
 ],
 "metadata": {
  "kernelspec": {
   "display_name": "PaddlePaddle 2.1.2 (Python 3.5)",
   "language": "python",
   "name": "py35-paddle1.2.0"
  },
  "language_info": {
   "codemirror_mode": {
    "name": "ipython",
    "version": 3
   },
   "file_extension": ".py",
   "mimetype": "text/x-python",
   "name": "python",
   "nbconvert_exporter": "python",
   "pygments_lexer": "ipython3",
   "version": "3.7.4"
  }
 },
 "nbformat": 4,
 "nbformat_minor": 1
}
